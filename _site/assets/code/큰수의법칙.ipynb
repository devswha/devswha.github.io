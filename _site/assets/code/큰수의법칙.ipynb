{
 "cells": [
  {
   "cell_type": "code",
   "execution_count": 2,
   "metadata": {},
   "outputs": [
    {
     "name": "stdout",
     "output_type": "stream",
     "text": [
      "6\n",
      "6\n",
      "6\n",
      "5\n",
      "6\n",
      "6\n",
      "6\n",
      "5\n",
      "46\n"
     ]
    }
   ],
   "source": [
    "n, m, k = map(int, input().split()) # 배열 크기, 더해지는 횟수, 연속 몇번까지\n",
    "numbers = sorted(list(map(int, input().split())), reverse=True)\n",
    "\n",
    "first = numbers[0] # 가장 큰 수\n",
    "second = numbers[1] # 두번째로 큰 수\n",
    "\n",
    "answer = 0\n",
    "while True:\n",
    "    for i in range(k):\n",
    "        if m == 0:\n",
    "            break\n",
    "        answer += first\n",
    "        print(first)\n",
    "        m -= 1\n",
    "\n",
    "    if m == 0:\n",
    "        break\n",
    "    answer += second\n",
    "    print(second)\n",
    "    m -= 1\n",
    "\n",
    "print(answer)"
   ]
  }
 ],
 "metadata": {
  "kernelspec": {
   "display_name": "Python 3",
   "language": "python",
   "name": "python3"
  },
  "language_info": {
   "codemirror_mode": {
    "name": "ipython",
    "version": 3
   },
   "file_extension": ".py",
   "mimetype": "text/x-python",
   "name": "python",
   "nbconvert_exporter": "python",
   "pygments_lexer": "ipython3",
   "version": "3.9.6"
  },
  "orig_nbformat": 4
 },
 "nbformat": 4,
 "nbformat_minor": 2
}
